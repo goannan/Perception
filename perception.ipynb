{
 "cells": [
  {
   "cell_type": "markdown",
   "id": "dfe03bd4",
   "metadata": {},
   "source": [
    "# perception test 简单使用感知机对数据进行二分类"
   ]
  },
  {
   "cell_type": "markdown",
   "id": "0c66916c",
   "metadata": {},
   "source": [
    "第一步：制作数据"
   ]
  },
  {
   "cell_type": "code",
   "execution_count": 13,
   "id": "ae0723d8",
   "metadata": {},
   "outputs": [
    {
     "name": "stdout",
     "output_type": "stream",
     "text": [
      "Using matplotlib backend: QtAgg\n",
      "Populating the interactive namespace from numpy and matplotlib\n"
     ]
    }
   ],
   "source": [
    "%pylab\n",
    "%matplotlib inline\n",
    "from sklearn.datasets import load_iris\n",
    "from sklearn.model_selection import train_test_split\n",
    "# import numpy as np\n",
    "# import matplotlib.pyplot as plt\n",
    "iris = load_iris()\n",
    "\n",
    "data = iris.data\n",
    "data = data[:100]\n",
    "labels = iris.target\n",
    "labels = labels[:100]\n",
    "feature_name = iris.feature_names\n",
    "\n",
    "data = data[:, 0:2]\n",
    "labels[labels == 0] = -1\n",
    "feature_name = feature_name[:2]\n",
    "\n",
    "X_train, X_test, y_train, y_test = train_test_split(data, labels)"
   ]
  },
  {
   "cell_type": "markdown",
   "id": "d2d9547c",
   "metadata": {},
   "source": [
    "第二步： 定义perception类"
   ]
  },
  {
   "cell_type": "code",
   "execution_count": 20,
   "id": "a6b4af01",
   "metadata": {},
   "outputs": [],
   "source": [
    "class my_perception():\n",
    "    def __init__(self, lr=0.01):\n",
    "        self.w = 0\n",
    "        self.b = 0\n",
    "        self.lr = lr\n",
    "        \n",
    "    def fit(self, X, y):\n",
    "        w = np.zeros(len(X[0]))\n",
    "        b = 0\n",
    "        lr = self.lr\n",
    "        all_true = False\n",
    "        \n",
    "        while not all_true:\n",
    "            all_true = True\n",
    "            for i in range(len(X)):\n",
    "                if y[i]*(np.dot(w, X[i]) + b) <= 0:\n",
    "                    all_true = False\n",
    "                    w += lr*y[i]*X[i]\n",
    "                    b += lr*y[i]\n",
    "                    \n",
    "        self.w = w\n",
    "        self.b = b\n",
    "    \n",
    "    def predict(self, X):\n",
    "        res = []\n",
    "        for i in range(len(X)):\n",
    "            if np.dot(self.w, X[i]) + b <= 0:\n",
    "                res.append(-1)\n",
    "            else:\n",
    "                res.append(1)\n",
    "        return np.array(res)\n",
    "    \n",
    "    def score(self, y_predict, y_test):\n",
    "        return np.mean(y_predict == y_test)"
   ]
  },
  {
   "cell_type": "markdown",
   "id": "7dae4050",
   "metadata": {},
   "source": [
    "第三步：代码测试"
   ]
  },
  {
   "cell_type": "code",
   "execution_count": 77,
   "id": "76be3687",
   "metadata": {},
   "outputs": [
    {
     "data": {
      "text/plain": [
       "Text(0, 0.5, 'sepal width (cm)')"
      ]
     },
     "execution_count": 77,
     "metadata": {},
     "output_type": "execute_result"
    },
    {
     "data": {
      "image/png": "[encoded data removed]",
      "text/plain": [
       "<Figure size 432x288 with 1 Axes>"
      ]
     },
     "metadata": {
      "needs_background": "light"
     },
     "output_type": "display_data"
    }
   ],
   "source": [
    "clf = my_perception()\n",
    "clf.fit(X_train, y_train)\n",
    "w = clf.w\n",
    "b = clf.b\n",
    "\n",
    "plt.scatter(data[:50, 0], data[:50, 1])\n",
    "plt.scatter(data[50:-1, 0], data[50:-1, 1])\n",
    "xx = np.linspace(data[:, 0].min(), data[:, 0].max(), 100)\n",
    "yy = -(w[0]*xx + b)/w[1]\n",
    "plt.plot(xx, yy)\n",
    "plt.xlabel(feature_name[0])\n",
    "plt.ylabel(feature_name[1])"
   ]
  }
 ],
 "metadata": {
  "kernelspec": {
   "display_name": "Python 3 (ipykernel)",
   "language": "python",
   "name": "python3"
  },
  "language_info": {
   "codemirror_mode": {
    "name": "ipython",
    "version": 3
   },
   "file_extension": ".py",
   "mimetype": "text/x-python",
   "name": "python",
   "nbconvert_exporter": "python",
   "pygments_lexer": "ipython3",
   "version": "3.7.0"
  }
 },
 "nbformat": 4,
 "nbformat_minor": 5
}
